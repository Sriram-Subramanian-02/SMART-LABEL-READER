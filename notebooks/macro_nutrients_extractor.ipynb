{
 "cells": [
  {
   "cell_type": "code",
   "execution_count": 1,
   "metadata": {},
   "outputs": [],
   "source": [
    "activity_mapper = {\n",
    "        \"Basal Metabolic Rate (BMR)\": 1,\n",
    "        \"Sedentary: little or no exercise\": 1.2,\n",
    "        \"Light: exercise 1-3 times/week\": 1.375,\n",
    "        \"Moderate: exercise 4-5 times/week\": 1.465,\n",
    "        \"Active: daily exercise or intense exercise 3-4 times/week\": 1.55,\n",
    "        \"Very Active: intense exercise 6-7 times/week\": 1.725,\n",
    "        \"Extra Active: very intense exercise daily, or physical job\": 1.9\n",
    "    }"
   ]
  },
  {
   "cell_type": "code",
   "execution_count": 3,
   "metadata": {},
   "outputs": [
    {
     "data": {
      "text/plain": [
       "['Basal Metabolic Rate (BMR)',\n",
       " 'Sedentary: little or no exercise',\n",
       " 'Light: exercise 1-3 times/week',\n",
       " 'Moderate: exercise 4-5 times/week',\n",
       " 'Active: daily exercise or intense exercise 3-4 times/week',\n",
       " 'Very Active: intense exercise 6-7 times/week',\n",
       " 'Extra Active: very intense exercise daily, or physical job']"
      ]
     },
     "execution_count": 3,
     "metadata": {},
     "output_type": "execute_result"
    }
   ],
   "source": [
    "list(activity_mapper.keys())"
   ]
  },
  {
   "cell_type": "code",
   "execution_count": null,
   "metadata": {},
   "outputs": [],
   "source": []
  }
 ],
 "metadata": {
  "kernelspec": {
   "display_name": "Python 3",
   "language": "python",
   "name": "python3"
  },
  "language_info": {
   "codemirror_mode": {
    "name": "ipython",
    "version": 3
   },
   "file_extension": ".py",
   "mimetype": "text/x-python",
   "name": "python",
   "nbconvert_exporter": "python",
   "pygments_lexer": "ipython3",
   "version": "3.10.11"
  }
 },
 "nbformat": 4,
 "nbformat_minor": 2
}
